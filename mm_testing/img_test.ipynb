{
 "cells": [
  {
   "cell_type": "code",
   "execution_count": null,
   "metadata": {},
   "outputs": [],
   "source": [
    "import torch\n",
    "from torch import nn\n",
    "\n",
    "from torch.utils.data import DataLoader, TensorDataset\n",
    "\n",
    "import matplotlib.pyplot as plt\n",
    "import numpy as np\n",
    "\n",
    "from mm_testing.conv_vae import VAE"
   ]
  },
  {
   "cell_type": "code",
   "execution_count": null,
   "metadata": {},
   "outputs": [],
   "source": [
    "file_name = 'dataset/vision_frames.npy'\n",
    "\n",
    "vision_frames = np.load(file_name)\n",
    "\n",
    "random_img = vision_frames[np.random.randint(0, vision_frames.shape[0])]\n",
    "\n",
    "print(f\"Image size: {random_img.shape}\")\n",
    "\n",
    "figure = plt.figure(figsize=(8, 8))\n",
    "plt.axis(\"off\")\n",
    "plt.imshow(random_img, cmap=\"gray\")\n",
    "\n",
    "plt.show()"
   ]
  },
  {
   "cell_type": "code",
   "execution_count": null,
   "metadata": {},
   "outputs": [],
   "source": [
    "device = \"cuda\" if torch.cuda.is_available() else \"cpu\"\n",
    "\n",
    "filepath = 'dataset/vision_frames.npy'\n",
    "\n",
    "training_dataset = TensorDataset(torch.tensor(np.load(filepath)).float())\n",
    "\n",
    "\n",
    "vae = VAE().to(device)\n",
    "vae.load_state_dict(torch.load('VAE_checkpoint.pth', weights_only=True))\n",
    "vae.eval()"
   ]
  },
  {
   "cell_type": "code",
   "execution_count": null,
   "metadata": {},
   "outputs": [],
   "source": [
    "import random\n",
    "import time\n",
    "\n",
    "\n",
    "\n",
    "# picking random image to test from dataloader\n",
    "random.seed(time.time())\n",
    "sample_index = random.randint(0, len(training_dataset))\n",
    "\n",
    "img = training_dataset[sample_index]\n",
    "img = img[0]\n",
    "\n",
    "img = img.view(1, 1, 80, 120)\n",
    "img = img.to(device)\n",
    "\n",
    "\n",
    "pred_img = []\n",
    "with torch.no_grad():\n",
    "    pred_img = vae(img)\n",
    "\n",
    "\n",
    "figure = plt.figure(figsize=(16, 16))\n",
    "cols, rows = 2, 1\n",
    "\n",
    "figure.add_subplot(rows, cols, 1)\n",
    "\n",
    "plt.axis(\"off\")\n",
    "plt.imshow(img.cpu().squeeze(), cmap=\"gray\")\n",
    "\n",
    "figure.add_subplot(rows, cols, 2)\n",
    "\n",
    "plt.axis(\"off\")\n",
    "plt.imshow(pred_img.cpu().squeeze(), cmap=\"gray\")\n",
    "\n",
    "print(pred_img)\n",
    "\n",
    "plt.show()"
   ]
  },
  {
   "cell_type": "markdown",
   "metadata": {},
   "source": [
    "### Updates\n",
    "\n",
    "Take trained on-policy moves otherwise some interesting joint positions end up occuring."
   ]
  }
 ],
 "metadata": {
  "kernelspec": {
   "display_name": ".uitb-mm-venv",
   "language": "python",
   "name": "python3"
  },
  "language_info": {
   "codemirror_mode": {
    "name": "ipython",
    "version": 3
   },
   "file_extension": ".py",
   "mimetype": "text/x-python",
   "name": "python",
   "nbconvert_exporter": "python",
   "pygments_lexer": "ipython3",
   "version": "3.10.12"
  }
 },
 "nbformat": 4,
 "nbformat_minor": 2
}
